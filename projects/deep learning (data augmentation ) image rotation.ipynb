{
 "cells": [
  {
   "cell_type": "code",
   "execution_count": 11,
   "id": "60293089",
   "metadata": {},
   "outputs": [],
   "source": [
    "import tensorflow as tf\n",
    "from tensorflow import keras \n",
    "from keras.preprocessing.image import ImageDataGenerator\n",
    "from keras.preprocessing import image\n",
    "from tensorflow.keras.preprocessing.image import load_img , img_to_array"
   ]
  },
  {
   "cell_type": "code",
   "execution_count": 12,
   "id": "f96bdc41",
   "metadata": {},
   "outputs": [],
   "source": [
    "datagen = ImageDataGenerator(\n",
    "rotation_range =40,\n",
    "width_shift_range = 40 ,\n",
    "height_shift_range=0.2,\n",
    "shear_range = 0.2, \n",
    "zoom_range =0.2,\n",
    "horizontal_flip = True,\n",
    "fill_mode = 'nearest')"
   ]
  },
  {
   "cell_type": "code",
   "execution_count": 13,
   "id": "780205cb",
   "metadata": {},
   "outputs": [],
   "source": [
    "img = load_img(\"C:\\\\Users\\\\91895\\\\Downloads\\\\dog.jpg\")\n",
    "x =img_to_array(img)"
   ]
  },
  {
   "cell_type": "code",
   "execution_count": 14,
   "id": "035b4a1a",
   "metadata": {},
   "outputs": [],
   "source": [
    "x =x.reshape((1,)+ x.shape)"
   ]
  },
  {
   "cell_type": "code",
   "execution_count": 15,
   "id": "c1f6b55e",
   "metadata": {},
   "outputs": [],
   "source": [
    "i = 0 \n",
    "for batch in datagen.flow(x,batch_size =1, save_to_dir =\"C:\\\\Users\\\\91895\\\\Downloads\\\\Dog\" , save_prefix = 'dog',save_format = 'jpg' ):\n",
    "    i +=1 \n",
    "    if i >10:\n",
    "        break"
   ]
  },
  {
   "cell_type": "code",
   "execution_count": 9,
   "id": "6889b793",
   "metadata": {},
   "outputs": [],
   "source": [
    "\n"
   ]
  },
  {
   "cell_type": "code",
   "execution_count": null,
   "id": "4ed73962",
   "metadata": {},
   "outputs": [],
   "source": []
  }
 ],
 "metadata": {
  "kernelspec": {
   "display_name": "Python 3 (ipykernel)",
   "language": "python",
   "name": "python3"
  },
  "language_info": {
   "codemirror_mode": {
    "name": "ipython",
    "version": 3
   },
   "file_extension": ".py",
   "mimetype": "text/x-python",
   "name": "python",
   "nbconvert_exporter": "python",
   "pygments_lexer": "ipython3",
   "version": "3.11.1"
  }
 },
 "nbformat": 4,
 "nbformat_minor": 5
}
