{
 "cells": [
  {
   "cell_type": "code",
   "execution_count": null,
   "id": "549f578b",
   "metadata": {},
   "outputs": [],
   "source": [
    "# (1). Go on Desktop ==> Create a new folder ==> open the folder\n",
    "# (2). Right click ==> open with vs code ==> File open in vs code\n",
    "# (3). Open the terminal of vs code (cntrl+`)\n",
    "# (4). on terminal ==> django-admin startproject (Name_of_Project)\n",
    "# (5). Now we will see that there is a folder whose name is (Name_of_project) is created # in my running folder.\n",
    "# (6). Close the vs code ==> Tap and right click on the (Name_of_Project) and open with vs code.\n",
    "# (7). Open the terminal (cntrl+) ==> python manage.py startapp (Name_of_app)\n",
    "# (8). Go on Porject folder and here is a file whose names is settings.py\n",
    "#Go on settings.py ==> Installed apps ==> 'Name of app' (Register your app)\n",
    "# (9). proiect urls ==> from Name of App import views\n",
    "# (10). Go on (Name_of_App) folder and go on views.py ==> here we create multiple functions that # will be connected to project's urls.py . And pick your csv file and paster there where #project and app folder and manage.py is present.\n",
    "# (11). in views.py ==> import numpy, pandas, sklearn, read_csv, model import,\n",
    "# (12). form ==> method ==> 'post' ==> user entry sequence wise ==> convert into Array format [0]\n",
    "# (13). Now go on manage.py and project's foldder and app folder directory ==> create a folder ==> #templates ==> index.html\n",
    "# (14). Go on vs code ==> go on settings.py ==>\n",
    "\n"
   ]
  }
 ],
 "metadata": {
  "kernelspec": {
   "display_name": "Python 3 (ipykernel)",
   "language": "python",
   "name": "python3"
  },
  "language_info": {
   "codemirror_mode": {
    "name": "ipython",
    "version": 3
   },
   "file_extension": ".py",
   "mimetype": "text/x-python",
   "name": "python",
   "nbconvert_exporter": "python",
   "pygments_lexer": "ipython3",
   "version": "3.11.1"
  }
 },
 "nbformat": 4,
 "nbformat_minor": 5
}
