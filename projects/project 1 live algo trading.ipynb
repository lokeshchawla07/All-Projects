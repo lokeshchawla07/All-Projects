{
 "cells": [
  {
   "cell_type": "code",
   "execution_count": 2,
   "id": "4df6f15d",
   "metadata": {},
   "outputs": [],
   "source": [
    "#!pip install yfinance\n"
   ]
  },
  {
   "cell_type": "code",
   "execution_count": null,
   "id": "7c8a2d68",
   "metadata": {},
   "outputs": [],
   "source": [
    "import pandas as pd\n",
    "import yfinance as yf\n",
    "import datetime\n",
    "from datetime import date, timedelta\n",
    "today = date.today()\n",
    "\n",
    "\n",
    "d1 = today.strftime(\"%y-%m-%d\")\n",
    "end_date = d1\n",
    "d2 =date.today() - timedelta(days =5000)\n",
    "d2 = d2.strftime(\"%y-%m-%d\")\n",
    "start_date =d2\n",
    "\n",
    "data= yf.download"
   ]
  }
 ],
 "metadata": {
  "kernelspec": {
   "display_name": "Python 3 (ipykernel)",
   "language": "python",
   "name": "python3"
  },
  "language_info": {
   "codemirror_mode": {
    "name": "ipython",
    "version": 3
   },
   "file_extension": ".py",
   "mimetype": "text/x-python",
   "name": "python",
   "nbconvert_exporter": "python",
   "pygments_lexer": "ipython3",
   "version": "3.11.1"
  }
 },
 "nbformat": 4,
 "nbformat_minor": 5
}
