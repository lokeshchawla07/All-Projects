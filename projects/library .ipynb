{
 "cells": [
  {
   "cell_type": "code",
   "execution_count": 1,
   "id": "ecfb57de",
   "metadata": {},
   "outputs": [
    {
     "name": "stdout",
     "output_type": "stream",
     "text": [
      "Collecting Langdetect\n",
      "  Downloading langdetect-1.0.9.tar.gz (981 kB)\n",
      "     ---------------------------------------- 0.0/981.5 kB ? eta -:--:--\n",
      "     - ----------------------------------- 41.0/981.5 kB 653.6 kB/s eta 0:00:02\n",
      "     ----- -------------------------------- 153.6/981.5 kB 1.5 MB/s eta 0:00:01\n",
      "     ------------- ------------------------ 348.2/981.5 kB 2.7 MB/s eta 0:00:01\n",
      "     ------------------------- ------------ 655.4/981.5 kB 3.8 MB/s eta 0:00:01\n",
      "     -------------------------------------- 981.5/981.5 kB 4.8 MB/s eta 0:00:00\n",
      "  Preparing metadata (setup.py): started\n",
      "  Preparing metadata (setup.py): finished with status 'done'\n",
      "Requirement already satisfied: six in c:\\users\\91895\\appdata\\local\\programs\\python\\python311\\lib\\site-packages (from Langdetect) (1.16.0)\n",
      "Building wheels for collected packages: Langdetect\n",
      "  Building wheel for Langdetect (setup.py): started\n",
      "  Building wheel for Langdetect (setup.py): finished with status 'done'\n",
      "  Created wheel for Langdetect: filename=langdetect-1.0.9-py3-none-any.whl size=993253 sha256=bd313da315759d7f3fd769eb6c2e157cadb6f59ed42ebb9300adfe6a2d07fade\n",
      "  Stored in directory: c:\\users\\91895\\appdata\\local\\pip\\cache\\wheels\\0a\\f2\\b2\\e5ca405801e05eb7c8ed5b3b4bcf1fcabcd6272c167640072e\n",
      "Successfully built Langdetect\n",
      "Installing collected packages: Langdetect\n",
      "Successfully installed Langdetect-1.0.9\n"
     ]
    }
   ],
   "source": [
    "!pip install Langdetect"
   ]
  },
  {
   "cell_type": "code",
   "execution_count": 2,
   "id": "f461f526",
   "metadata": {},
   "outputs": [],
   "source": [
    "# 'langdetect' detect over 55 different languages within a few lines of code . \n",
    "# examples = it के लिए एक कंप्यूटर विज्ञान पोर्टल है\n",
    "# は、ギーク向けのコンピューターサイエンスポータルです。"
   ]
  },
  {
   "cell_type": "code",
   "execution_count": 4,
   "id": "652e12d1",
   "metadata": {},
   "outputs": [
    {
     "name": "stdout",
     "output_type": "stream",
     "text": [
      "enter any text in any languageは、ギーク向けのコンピューターサイエンスポータルです。\n",
      "ja\n"
     ]
    }
   ],
   "source": [
    "from langdetect import detect\n",
    "text = input(\"enter any text in any language\")\n",
    "print(detect(text))"
   ]
  },
  {
   "cell_type": "code",
   "execution_count": null,
   "id": "1f8712f1",
   "metadata": {},
   "outputs": [],
   "source": []
  }
 ],
 "metadata": {
  "kernelspec": {
   "display_name": "Python 3 (ipykernel)",
   "language": "python",
   "name": "python3"
  },
  "language_info": {
   "codemirror_mode": {
    "name": "ipython",
    "version": 3
   },
   "file_extension": ".py",
   "mimetype": "text/x-python",
   "name": "python",
   "nbconvert_exporter": "python",
   "pygments_lexer": "ipython3",
   "version": "3.11.1"
  }
 },
 "nbformat": 4,
 "nbformat_minor": 5
}
